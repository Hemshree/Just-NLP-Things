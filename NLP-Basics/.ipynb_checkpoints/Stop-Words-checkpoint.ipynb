{
 "cells": [
  {
   "cell_type": "code",
   "execution_count": 1,
   "metadata": {},
   "outputs": [],
   "source": [
    "import spacy"
   ]
  },
  {
   "cell_type": "code",
   "execution_count": 2,
   "metadata": {},
   "outputs": [],
   "source": [
    "nlp = spacy.load('en_core_web_sm')"
   ]
  },
  {
   "cell_type": "code",
   "execution_count": 3,
   "metadata": {},
   "outputs": [
    {
     "name": "stdout",
     "output_type": "stream",
     "text": [
      "{'might', 'each', 'regarding', 'nothing', 'if', 'are', 'latterly', 'until', 'every', 'anything', 'full', 'quite', 'seems', 'too', 'whole', 'anyhow', 'you', 'all', 'across', 'done', 'fifteen', 'being', 'had', 'any', 'have', 'do', 'ever', 'i', 'for', 'could', 'rather', 'used', 'where', 'hereby', 'front', 'while', 'whom', 'on', 'yourself', 'may', 'am', 'put', 'this', 'although', 'less', 'call', 'became', 'whose', 'below', 'would', 'many', 'per', 'again', 'here', 'made', 'then', 'since', 'though', 'whence', 'four', 'keep', 'an', 'whereupon', 'always', 'amongst', 'of', 'his', 'anywhere', 'together', 'due', 'who', 'yet', 'very', 'the', 'amount', 'eight', 'everyone', 'mine', 'toward', 'few', 'around', 'seem', 'via', 'see', 'onto', 'why', 'above', 'name', 'everywhere', 'latter', 'same', 'whereby', 'make', 'unless', 'move', 'nowhere', 'take', 'thereby', 'how', 'through', 'were', 'first', 'hers', 'once', 'five', 'which', 'himself', 'along', 're', 'a', 'myself', 'somewhere', 'anyway', 'often', 'please', 'is', 'others', 'been', 'therefore', 'least', 'using', 'doing', 'namely', 'six', 'was', 'against', 'he', 'hence', 'indeed', 'other', 'ca', 'did', 'mostly', 'almost', 'own', 'them', 'show', 'among', 'third', 'most', 'your', 'give', 'perhaps', 'such', 'side', 'however', 'wherever', 'say', 'we', 'what', 'down', 'fifty', 'serious', 'else', 'towards', 'her', 'sometime', 'into', 'ten', 'bottom', 'eleven', 'whether', 'should', 'part', 'must', 'none', 'as', 'just', 'afterwards', 'in', 'much', 'wherein', 'therein', 'elsewhere', 'really', 'itself', 'whoever', 'because', 'over', 'everything', 'ours', 'several', 'whereas', 'will', 'has', 'otherwise', 'these', 'off', 'further', 'empty', 'they', 'besides', 'by', 'seemed', 'already', 'hereafter', 'another', 'nor', 'now', 'even', 'herein', 'she', 'one', 'ourselves', 'thus', 'whither', 'forty', 'moreover', 'never', 'and', 'sixty', 'various', 'those', 'within', 'three', 'yourselves', 'it', 'hundred', 'somehow', 'becoming', 'beside', 'get', 'hereupon', 'beforehand', 'back', 'about', 'whereafter', 'former', 'go', 'no', 'up', 'nevertheless', 'except', 'themselves', 'still', 'behind', 'thereupon', 'more', 'to', 'under', 'that', 'during', 'become', 'both', 'either', 'seeming', 'there', 'yours', 'him', 'but', 'only', 'anyone', 'its', 'well', 'next', 'or', 'whatever', 'between', 'alone', 'some', 'twenty', 'with', 'be', 'beyond', 'our', 'their', 'not', 'enough', 'after', 'before', 'noone', 'out', 'than', 'thru', 'whenever', 'cannot', 'nobody', 'someone', 'two', 'without', 'so', 'my', 'also', 'last', 'thence', 'formerly', 'throughout', 'upon', 'me', 'sometimes', 'becomes', 'can', 'does', 'from', 'herself', 'nine', 'something', 'us', 'thereafter', 'neither', 'twelve', 'at', 'when', 'top', 'meanwhile'}\n"
     ]
    }
   ],
   "source": [
    "#All common stopwords in spacy\n",
    "print(nlp.Defaults.stop_words)"
   ]
  },
  {
   "cell_type": "code",
   "execution_count": 4,
   "metadata": {},
   "outputs": [
    {
     "data": {
      "text/plain": [
       "305"
      ]
     },
     "execution_count": 4,
     "metadata": {},
     "output_type": "execute_result"
    }
   ],
   "source": [
    "len(nlp.Defaults.stop_words)"
   ]
  },
  {
   "cell_type": "code",
   "execution_count": 5,
   "metadata": {},
   "outputs": [
    {
     "data": {
      "text/plain": [
       "<spacy.lexeme.Lexeme at 0x2123cd609f8>"
      ]
     },
     "execution_count": 5,
     "metadata": {},
     "output_type": "execute_result"
    }
   ],
   "source": [
    "#Check if stopword or not\n",
    "\n",
    "nlp.vocab['is']"
   ]
  },
  {
   "cell_type": "code",
   "execution_count": 6,
   "metadata": {},
   "outputs": [
    {
     "data": {
      "text/plain": [
       "True"
      ]
     },
     "execution_count": 6,
     "metadata": {},
     "output_type": "execute_result"
    }
   ],
   "source": [
    "nlp.vocab['is'].is_stop"
   ]
  },
  {
   "cell_type": "code",
   "execution_count": 7,
   "metadata": {},
   "outputs": [
    {
     "data": {
      "text/plain": [
       "False"
      ]
     },
     "execution_count": 7,
     "metadata": {},
     "output_type": "execute_result"
    }
   ],
   "source": [
    "nlp.vocab['mystery'].is_stop"
   ]
  },
  {
   "cell_type": "code",
   "execution_count": 8,
   "metadata": {},
   "outputs": [],
   "source": [
    "#Adding sopwords\n",
    "\n",
    "nlp.Defaults.stop_words.add('btw')"
   ]
  },
  {
   "cell_type": "code",
   "execution_count": 9,
   "metadata": {},
   "outputs": [],
   "source": [
    "nlp.vocab['btw'].is_stop = True"
   ]
  },
  {
   "cell_type": "code",
   "execution_count": 10,
   "metadata": {},
   "outputs": [
    {
     "data": {
      "text/plain": [
       "306"
      ]
     },
     "execution_count": 10,
     "metadata": {},
     "output_type": "execute_result"
    }
   ],
   "source": [
    "len(nlp.Defaults.stop_words)"
   ]
  },
  {
   "cell_type": "code",
   "execution_count": 11,
   "metadata": {},
   "outputs": [
    {
     "data": {
      "text/plain": [
       "True"
      ]
     },
     "execution_count": 11,
     "metadata": {},
     "output_type": "execute_result"
    }
   ],
   "source": [
    "nlp.vocab['btw'].is_stop"
   ]
  },
  {
   "cell_type": "code",
   "execution_count": 12,
   "metadata": {},
   "outputs": [],
   "source": [
    "#Removing a stop words\n",
    "nlp.Defaults.stop_words.remove('beyond')"
   ]
  },
  {
   "cell_type": "code",
   "execution_count": 13,
   "metadata": {},
   "outputs": [],
   "source": [
    "nlp.vocab['beyond'].is_stop = False"
   ]
  },
  {
   "cell_type": "code",
   "execution_count": 14,
   "metadata": {},
   "outputs": [
    {
     "data": {
      "text/plain": [
       "False"
      ]
     },
     "execution_count": 14,
     "metadata": {},
     "output_type": "execute_result"
    }
   ],
   "source": [
    "nlp.vocab['beyond'].is_stop "
   ]
  },
  {
   "cell_type": "code",
   "execution_count": null,
   "metadata": {},
   "outputs": [],
   "source": []
  }
 ],
 "metadata": {
  "kernelspec": {
   "display_name": "Python 3",
   "language": "python",
   "name": "python3"
  },
  "language_info": {
   "codemirror_mode": {
    "name": "ipython",
    "version": 3
   },
   "file_extension": ".py",
   "mimetype": "text/x-python",
   "name": "python",
   "nbconvert_exporter": "python",
   "pygments_lexer": "ipython3",
   "version": "3.7.7"
  }
 },
 "nbformat": 4,
 "nbformat_minor": 4
}
